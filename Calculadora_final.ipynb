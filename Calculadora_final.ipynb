{
 "cells": [
  {
   "cell_type": "code",
   "execution_count": null,
   "id": "8673aae4-d10c-4749-a72d-2d696424063f",
   "metadata": {},
   "outputs": [
    {
     "name": "stdout",
     "output_type": "stream",
     "text": [
      "Expresión: 88+89\n",
      "Resultado: 177.0\n",
      "Expresión: 85+45\n",
      "Resultado: 130.0\n"
     ]
    }
   ],
   "source": [
    "import tkinter as tk\n",
    "\n",
    "ss = ''  # variable global\n",
    "\n",
    "def CalculaOper(expresion):\n",
    "    # Buscar suma\n",
    "    i = 0\n",
    "    while i < len(expresion):\n",
    "        if expresion[i] == '+':\n",
    "            num1 = float(expresion[0:i])\n",
    "            num2 = float(expresion[i+1:])\n",
    "            return num1 + num2\n",
    "        i = i + 1\n",
    "\n",
    "    # Buscar resta\n",
    "    j = 0\n",
    "    while j < len(expresion):\n",
    "        if expresion[j] == '-':\n",
    "            num1 = float(expresion[0:j])\n",
    "            num2 = float(expresion[j+1:])\n",
    "            return num1 - num2\n",
    "        j = j + 1\n",
    "\n",
    "    # Si no hay operador válido\n",
    "    return \"ERROR\"\n",
    "\n",
    "def button_click(button_name):\n",
    "    global ss\n",
    "    if button_name == '=':\n",
    "        resultado = CalculaOper(ss)\n",
    "        print(\"Expresión:\", ss)\n",
    "        print(\"Resultado:\", resultado)\n",
    "        ss = ''  # reinicia para nueva operación\n",
    "    else:\n",
    "        ss = ss + button_name  # solo guarda los dígitos y operadores\n",
    "\n",
    "# --- Interfaz básica ---\n",
    "root = tk.Tk()\n",
    "root.title(\"Calculadora\")\n",
    "\n",
    "b1 = tk.Button(root, text=\"1\", command=lambda: button_click(\"1\"))\n",
    "b2 = tk.Button(root, text=\"2\", command=lambda: button_click(\"2\"))\n",
    "b3 = tk.Button(root, text=\"3\", command=lambda: button_click(\"3\"))\n",
    "b4 = tk.Button(root, text=\"4\", command=lambda: button_click(\"4\"))\n",
    "b5 = tk.Button(root, text=\"5\", command=lambda: button_click(\"5\"))\n",
    "b6 = tk.Button(root, text=\"6\", command=lambda: button_click(\"6\"))\n",
    "b7 = tk.Button(root, text=\"7\", command=lambda: button_click(\"7\"))\n",
    "b8 = tk.Button(root, text=\"8\", command=lambda: button_click(\"8\"))\n",
    "b9 = tk.Button(root, text=\"9\", command=lambda: button_click(\"9\"))\n",
    "b0 = tk.Button(root, text=\"0\", command=lambda: button_click(\"0\"))\n",
    "mas = tk.Button(root, text=\"+\", command=lambda: button_click(\"+\"))\n",
    "menos = tk.Button(root, text=\"-\", command=lambda: button_click(\"-\"))\n",
    "igual = tk.Button(root, text=\"=\", command=lambda: button_click(\"=\"))\n",
    "\n",
    "b1.grid(row=0, column=0, padx=5, pady=5)\n",
    "b2.grid(row=0, column=1, padx=5, pady=5)\n",
    "b3.grid(row=0, column=2, padx=5, pady=5)\n",
    "b4.grid(row=1, column=0, padx=5, pady=5)\n",
    "b5.grid(row=1, column=1, padx=5, pady=5)\n",
    "b6.grid(row=1, column=2, padx=5, pady=5)\n",
    "b7.grid(row=2, column=0, padx=5, pady=5)\n",
    "b8.grid(row=2, column=1, padx=5, pady=5)\n",
    "b9.grid(row=2, column=2, padx=5, pady=5)\n",
    "b0.grid(row=3, column=0, padx=5, pady=5)\n",
    "mas.grid(row=3, column=1, padx=5, pady=5)\n",
    "menos.grid(row=3, column=2, padx=5, pady=5)\n",
    "igual.grid(row=4, column=0, padx=5, pady=5)\n",
    "\n",
    "root.mainloop()\n",
    "\n"
   ]
  },
  {
   "cell_type": "code",
   "execution_count": null,
   "id": "7146c4d5-8c6c-4b3f-a15b-d391ffdc0c6e",
   "metadata": {},
   "outputs": [],
   "source": []
  }
 ],
 "metadata": {
  "kernelspec": {
   "display_name": "Python [conda env:base] *",
   "language": "python",
   "name": "conda-base-py"
  },
  "language_info": {
   "codemirror_mode": {
    "name": "ipython",
    "version": 3
   },
   "file_extension": ".py",
   "mimetype": "text/x-python",
   "name": "python",
   "nbconvert_exporter": "python",
   "pygments_lexer": "ipython3",
   "version": "3.13.5"
  }
 },
 "nbformat": 4,
 "nbformat_minor": 5
}
